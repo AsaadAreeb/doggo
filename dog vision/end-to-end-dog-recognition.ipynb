{
 "cells": [
  {
   "cell_type": "markdown",
   "metadata": {
    "id": "DexKhDHPXXqk"
   },
   "source": [
    "# End-to-end Multi-class Dog Breed Classification\n",
    "\n",
    "\n",
    "## 1. Problem\n",
    "\n",
    "Identifying a breed of a dog given an image of a dog.\n",
    "\n",
    "## 2. Data\n",
    "\n",
    "The data we're using is from Kaggle dog breed identification compition.\n",
    "\n",
    "https://www.kaggle.com/c/dog-breed-identification/data\n",
    "\n",
    "## 3. Evaluation\n",
    "\n",
    "The evaluation is a file with prediction probabilities for each dog breed of each test image.\n",
    "\n",
    "https://www.kaggle.com/c/dog-breed-identification/overview/evaluation\n",
    "\n",
    "## 4. Features\n",
    "\n",
    "Some information about the data:\n",
    "* We are dealing with images (unstructured data) so it's probably best we use deep learning/transfer learning.\n",
    "* There are 120 breeds of dogs (this means there are 120 different classes).\n",
    "* There are around 10,000+ images in the training set (these images have labels).\n",
    "* There are around 10,000+ images in the test set (these images have no labels, because we want to predict them).\n"
   ]
  },
  {
   "cell_type": "code",
   "execution_count": null,
   "metadata": {
    "executionInfo": {
     "elapsed": 10914,
     "status": "ok",
     "timestamp": 1628688077207,
     "user": {
      "displayName": "Asaad Areeb",
      "photoUrl": "https://lh3.googleusercontent.com/a-/AOh14Gg0BvII_YnaeA5HcSUholmq4o3DorlmigeONT6o=s64",
      "userId": "15430707477961945856"
     },
     "user_tz": -300
    },
    "id": "vs6TtcuEvCpf"
   },
   "outputs": [],
   "source": [
    "# Unzip the uploaded data into the Google Drive\n",
    "#!unzip \"drive/MyDrive/dog vision/dog-breed-identification.zip\" -d \"drive/MyDrive/dog vision/\""
   ]
  },
  {
   "cell_type": "markdown",
   "metadata": {
    "id": "Ky7dblftb9Sz"
   },
   "source": [
    "### Get our workspace ready\n",
    "\n",
    "* Import TensorFlow2.x\n",
    "* Import TensorFlow Hub\n",
    "* Make sure we're using a GPU"
   ]
  },
  {
   "cell_type": "code",
   "execution_count": null,
   "metadata": {
    "colab": {
     "base_uri": "https://localhost:8080/"
    },
    "executionInfo": {
     "elapsed": 14142,
     "status": "ok",
     "timestamp": 1628688096224,
     "user": {
      "displayName": "Asaad Areeb",
      "photoUrl": "https://lh3.googleusercontent.com/a-/AOh14Gg0BvII_YnaeA5HcSUholmq4o3DorlmigeONT6o=s64",
      "userId": "15430707477961945856"
     },
     "user_tz": -300
    },
    "id": "yG3LgeNkS7q-",
    "outputId": "3c615ae2-3d52-4dd9-d781-a95c7fa24266"
   },
   "outputs": [],
   "source": [
    "# Import necessary tools\n",
    "# Import TensorFlow & TensorFlow Hub into Colab\n",
    "import tensorflow as tf\n",
    "import tensorflow_hub as hub\n",
    "print(\"TF version:\", tf.__version__)\n",
    "print(\"TF Hub version:\", hub.__version__)\n",
    "\n",
    "# Check for GPU availability\n",
    "print(\"GPU\", \"availabe (YESSS!!!!)\" if tf.config.list_physical_devices(\"GPU\") else \"not available :(\")"
   ]
  },
  {
   "cell_type": "markdown",
   "metadata": {
    "id": "FUtAQ0NvcrAR"
   },
   "source": [
    "## Getting our data ready (turning into Tensors)\n"
   ]
  },
  {
   "cell_type": "code",
   "execution_count": null,
   "metadata": {
    "colab": {
     "base_uri": "https://localhost:8080/"
    },
    "executionInfo": {
     "elapsed": 42,
     "status": "ok",
     "timestamp": 1628688096226,
     "user": {
      "displayName": "Asaad Areeb",
      "photoUrl": "https://lh3.googleusercontent.com/a-/AOh14Gg0BvII_YnaeA5HcSUholmq4o3DorlmigeONT6o=s64",
      "userId": "15430707477961945856"
     },
     "user_tz": -300
    },
    "id": "f0FC2kDlYZtB",
    "outputId": "ce88a46c-6ad1-4d1d-b1b3-475acafda58f"
   },
   "outputs": [],
   "source": [
    "# Checkout the labels of our data\n",
    "import pandas as pd\n",
    "labels_csv = pd.read_csv(\"drive/MyDrive/dog vision/labels.csv\")\n",
    "print(labels_csv.describe())\n",
    "print(labels_csv.head())"
   ]
  },
  {
   "cell_type": "code",
   "execution_count": null,
   "metadata": {
    "colab": {
     "base_uri": "https://localhost:8080/",
     "height": 200
    },
    "executionInfo": {
     "elapsed": 35,
     "status": "ok",
     "timestamp": 1628688096227,
     "user": {
      "displayName": "Asaad Areeb",
      "photoUrl": "https://lh3.googleusercontent.com/a-/AOh14Gg0BvII_YnaeA5HcSUholmq4o3DorlmigeONT6o=s64",
      "userId": "15430707477961945856"
     },
     "user_tz": -300
    },
    "id": "WXo96tlOZs0Y",
    "outputId": "3a61c399-f431-4fc9-c537-be42b1de7653"
   },
   "outputs": [],
   "source": [
    "labels_csv.head()"
   ]
  },
  {
   "cell_type": "code",
   "execution_count": null,
   "metadata": {
    "colab": {
     "base_uri": "https://localhost:8080/",
     "height": 748
    },
    "executionInfo": {
     "elapsed": 33,
     "status": "ok",
     "timestamp": 1628688096227,
     "user": {
      "displayName": "Asaad Areeb",
      "photoUrl": "https://lh3.googleusercontent.com/a-/AOh14Gg0BvII_YnaeA5HcSUholmq4o3DorlmigeONT6o=s64",
      "userId": "15430707477961945856"
     },
     "user_tz": -300
    },
    "id": "iNMq3bi6aFft",
    "outputId": "e0845996-160d-4a73-ada6-81b7c724d9ff"
   },
   "outputs": [],
   "source": [
    "# How many images are there for each breed?\n",
    "labels_csv[\"breed\"].value_counts().plot.bar(figsize=(20,10))"
   ]
  },
  {
   "cell_type": "code",
   "execution_count": null,
   "metadata": {
    "colab": {
     "base_uri": "https://localhost:8080/"
    },
    "executionInfo": {
     "elapsed": 23,
     "status": "ok",
     "timestamp": 1628688096228,
     "user": {
      "displayName": "Asaad Areeb",
      "photoUrl": "https://lh3.googleusercontent.com/a-/AOh14Gg0BvII_YnaeA5HcSUholmq4o3DorlmigeONT6o=s64",
      "userId": "15430707477961945856"
     },
     "user_tz": -300
    },
    "id": "lvFM1hHga4Eb",
    "outputId": "f6d90ae1-4632-449d-c37f-1a9da09fb9b4"
   },
   "outputs": [],
   "source": [
    "labels_csv[\"breed\"].value_counts().median()"
   ]
  },
  {
   "cell_type": "code",
   "execution_count": null,
   "metadata": {
    "colab": {
     "base_uri": "https://localhost:8080/",
     "height": 392
    },
    "executionInfo": {
     "elapsed": 43920,
     "status": "ok",
     "timestamp": 1628688140132,
     "user": {
      "displayName": "Asaad Areeb",
      "photoUrl": "https://lh3.googleusercontent.com/a-/AOh14Gg0BvII_YnaeA5HcSUholmq4o3DorlmigeONT6o=s64",
      "userId": "15430707477961945856"
     },
     "user_tz": -300
    },
    "id": "CNADOBIvd7n7",
    "outputId": "8d3067c5-a304-4156-a884-529313d23ba2"
   },
   "outputs": [],
   "source": [
    "# Let's view an image\n",
    "from IPython.display import Image\n",
    "Image(\"drive/MyDrive/dog vision/train/001513dfcb2ffafc82cccf4d8bbaba97.jpg\")"
   ]
  },
  {
   "cell_type": "markdown",
   "metadata": {
    "id": "NzsHJcfogjZj"
   },
   "source": [
    "### Getting images and their labels\n",
    "\n",
    "Let's get a list of all of our image file pathnames."
   ]
  },
  {
   "cell_type": "code",
   "execution_count": null,
   "metadata": {
    "colab": {
     "base_uri": "https://localhost:8080/",
     "height": 200
    },
    "executionInfo": {
     "elapsed": 473,
     "status": "ok",
     "timestamp": 1628688140133,
     "user": {
      "displayName": "Asaad Areeb",
      "photoUrl": "https://lh3.googleusercontent.com/a-/AOh14Gg0BvII_YnaeA5HcSUholmq4o3DorlmigeONT6o=s64",
      "userId": "15430707477961945856"
     },
     "user_tz": -300
    },
    "id": "ZlAuYYIHjVFY",
    "outputId": "28d24ec2-81d8-40fb-af48-54c8f5b97494"
   },
   "outputs": [],
   "source": [
    "labels_csv.head()"
   ]
  },
  {
   "cell_type": "code",
   "execution_count": null,
   "metadata": {
    "colab": {
     "base_uri": "https://localhost:8080/"
    },
    "executionInfo": {
     "elapsed": 473,
     "status": "ok",
     "timestamp": 1628688140135,
     "user": {
      "displayName": "Asaad Areeb",
      "photoUrl": "https://lh3.googleusercontent.com/a-/AOh14Gg0BvII_YnaeA5HcSUholmq4o3DorlmigeONT6o=s64",
      "userId": "15430707477961945856"
     },
     "user_tz": -300
    },
    "id": "pF6imnj0gkTf",
    "outputId": "2c993b84-050e-4e3a-8f7b-2ec98f5b37ae"
   },
   "outputs": [],
   "source": [
    "# Create pathnames from image ID's\n",
    "filenames = [\"drive/MyDrive/dog vision/train/\" + fname + \".jpg\" for fname in labels_csv[\"id\"]]\n",
    "\n",
    "# check first 10\n",
    "filenames[:10]"
   ]
  },
  {
   "cell_type": "code",
   "execution_count": null,
   "metadata": {
    "colab": {
     "base_uri": "https://localhost:8080/"
    },
    "executionInfo": {
     "elapsed": 469,
     "status": "ok",
     "timestamp": 1628688140137,
     "user": {
      "displayName": "Asaad Areeb",
      "photoUrl": "https://lh3.googleusercontent.com/a-/AOh14Gg0BvII_YnaeA5HcSUholmq4o3DorlmigeONT6o=s64",
      "userId": "15430707477961945856"
     },
     "user_tz": -300
    },
    "id": "g4yelQ9Gj9cf",
    "outputId": "49d0770f-d8ca-4087-eaab-218662aaf1c3"
   },
   "outputs": [],
   "source": [
    "# check whether the number of filenames matches the number of actual image files\n",
    "import os\n",
    "if len(os.listdir(\"drive/MyDrive/dog vision/train/\")) == len(filenames):\n",
    "  print(\"Filenames match actual amount of files!!! Proceed.\")\n",
    "else:\n",
    "  print(\"Filenames do not match actual amount of files, check the target directory.\")"
   ]
  },
  {
   "cell_type": "code",
   "execution_count": null,
   "metadata": {
    "colab": {
     "base_uri": "https://localhost:8080/",
     "height": 517
    },
    "executionInfo": {
     "elapsed": 466,
     "status": "ok",
     "timestamp": 1628688140139,
     "user": {
      "displayName": "Asaad Areeb",
      "photoUrl": "https://lh3.googleusercontent.com/a-/AOh14Gg0BvII_YnaeA5HcSUholmq4o3DorlmigeONT6o=s64",
      "userId": "15430707477961945856"
     },
     "user_tz": -300
    },
    "id": "tIA66-fkqPTE",
    "outputId": "bcb95851-6536-422a-d625-19c05d1662dd"
   },
   "outputs": [],
   "source": [
    "# One more check\n",
    "Image(filenames[5000])"
   ]
  },
  {
   "cell_type": "code",
   "execution_count": null,
   "metadata": {
    "colab": {
     "base_uri": "https://localhost:8080/",
     "height": 35
    },
    "executionInfo": {
     "elapsed": 467,
     "status": "ok",
     "timestamp": 1628688140141,
     "user": {
      "displayName": "Asaad Areeb",
      "photoUrl": "https://lh3.googleusercontent.com/a-/AOh14Gg0BvII_YnaeA5HcSUholmq4o3DorlmigeONT6o=s64",
      "userId": "15430707477961945856"
     },
     "user_tz": -300
    },
    "id": "noCsxlueqwtv",
    "outputId": "158c8fbe-53ae-436d-971a-66450449f8b4"
   },
   "outputs": [],
   "source": [
    "labels_csv[\"breed\"][5000]"
   ]
  },
  {
   "cell_type": "markdown",
   "metadata": {
    "id": "e2ii_lrrrB3t"
   },
   "source": [
    "Since we've got our training image filepaths in a list, let's prepare our labels."
   ]
  },
  {
   "cell_type": "code",
   "execution_count": null,
   "metadata": {
    "colab": {
     "base_uri": "https://localhost:8080/"
    },
    "executionInfo": {
     "elapsed": 469,
     "status": "ok",
     "timestamp": 1628688140144,
     "user": {
      "displayName": "Asaad Areeb",
      "photoUrl": "https://lh3.googleusercontent.com/a-/AOh14Gg0BvII_YnaeA5HcSUholmq4o3DorlmigeONT6o=s64",
      "userId": "15430707477961945856"
     },
     "user_tz": -300
    },
    "id": "YfZUmbBhr7Zo",
    "outputId": "8d0a82f7-052d-40ce-af7e-3b291e7eb1cc"
   },
   "outputs": [],
   "source": [
    "import numpy as np\n",
    "labels = labels_csv[\"breed\"].to_numpy()\n",
    "# labels = np.array(labels) # does same thing as above\n",
    "labels"
   ]
  },
  {
   "cell_type": "code",
   "execution_count": null,
   "metadata": {
    "colab": {
     "base_uri": "https://localhost:8080/"
    },
    "executionInfo": {
     "elapsed": 465,
     "status": "ok",
     "timestamp": 1628688140145,
     "user": {
      "displayName": "Asaad Areeb",
      "photoUrl": "https://lh3.googleusercontent.com/a-/AOh14Gg0BvII_YnaeA5HcSUholmq4o3DorlmigeONT6o=s64",
      "userId": "15430707477961945856"
     },
     "user_tz": -300
    },
    "id": "_6XlE5MwsHAJ",
    "outputId": "31bddb45-a427-4693-9a34-d14c79fc19d4"
   },
   "outputs": [],
   "source": [
    "len(labels)"
   ]
  },
  {
   "cell_type": "code",
   "execution_count": null,
   "metadata": {
    "colab": {
     "base_uri": "https://localhost:8080/"
    },
    "executionInfo": {
     "elapsed": 462,
     "status": "ok",
     "timestamp": 1628688140147,
     "user": {
      "displayName": "Asaad Areeb",
      "photoUrl": "https://lh3.googleusercontent.com/a-/AOh14Gg0BvII_YnaeA5HcSUholmq4o3DorlmigeONT6o=s64",
      "userId": "15430707477961945856"
     },
     "user_tz": -300
    },
    "id": "7BgGQYyZsrw2",
    "outputId": "dd507a89-84ca-480f-a3d7-2ada766745ea"
   },
   "outputs": [],
   "source": [
    "# See if the number of labels matches the number of filenames\n",
    "if len(labels) == len(filenames):\n",
    "  print(\"Number of labels matches the number of filenames\")\n",
    "else:\n",
    "  print(\"Number of labels does not match number of filenames, check the data directories\")"
   ]
  },
  {
   "cell_type": "code",
   "execution_count": null,
   "metadata": {
    "colab": {
     "base_uri": "https://localhost:8080/"
    },
    "executionInfo": {
     "elapsed": 459,
     "status": "ok",
     "timestamp": 1628688140148,
     "user": {
      "displayName": "Asaad Areeb",
      "photoUrl": "https://lh3.googleusercontent.com/a-/AOh14Gg0BvII_YnaeA5HcSUholmq4o3DorlmigeONT6o=s64",
      "userId": "15430707477961945856"
     },
     "user_tz": -300
    },
    "id": "tuRdpqhSuAoh",
    "outputId": "b4d75c36-7050-403d-f055-a2893bcbf5a3"
   },
   "outputs": [],
   "source": [
    "# Find the unique label values\n",
    "unique_breeds = np.unique(labels)\n",
    "len(unique_breeds)"
   ]
  },
  {
   "cell_type": "code",
   "execution_count": null,
   "metadata": {
    "colab": {
     "base_uri": "https://localhost:8080/"
    },
    "executionInfo": {
     "elapsed": 455,
     "status": "ok",
     "timestamp": 1628688140149,
     "user": {
      "displayName": "Asaad Areeb",
      "photoUrl": "https://lh3.googleusercontent.com/a-/AOh14Gg0BvII_YnaeA5HcSUholmq4o3DorlmigeONT6o=s64",
      "userId": "15430707477961945856"
     },
     "user_tz": -300
    },
    "id": "jTfnsi5BurbN",
    "outputId": "1be48d72-f772-4195-c8e1-3feb5690c06c"
   },
   "outputs": [],
   "source": [
    "# Turn a single label into an array of booleans\n",
    "print(labels[0])\n",
    "labels[0] == unique_breeds"
   ]
  },
  {
   "cell_type": "code",
   "execution_count": null,
   "metadata": {
    "colab": {
     "base_uri": "https://localhost:8080/"
    },
    "executionInfo": {
     "elapsed": 453,
     "status": "ok",
     "timestamp": 1628688140151,
     "user": {
      "displayName": "Asaad Areeb",
      "photoUrl": "https://lh3.googleusercontent.com/a-/AOh14Gg0BvII_YnaeA5HcSUholmq4o3DorlmigeONT6o=s64",
      "userId": "15430707477961945856"
     },
     "user_tz": -300
    },
    "id": "rxZrLl-ixaTc",
    "outputId": "b53e5bab-c891-496c-ae12-c93eaa12613c"
   },
   "outputs": [],
   "source": [
    "# Turn every label into a boolean array\n",
    "boolean_labels = [label == unique_breeds for label in labels]\n",
    "boolean_labels"
   ]
  },
  {
   "cell_type": "code",
   "execution_count": null,
   "metadata": {
    "colab": {
     "base_uri": "https://localhost:8080/"
    },
    "executionInfo": {
     "elapsed": 438,
     "status": "ok",
     "timestamp": 1628688140152,
     "user": {
      "displayName": "Asaad Areeb",
      "photoUrl": "https://lh3.googleusercontent.com/a-/AOh14Gg0BvII_YnaeA5HcSUholmq4o3DorlmigeONT6o=s64",
      "userId": "15430707477961945856"
     },
     "user_tz": -300
    },
    "id": "l2Vs0GBRypyY",
    "outputId": "41aeebed-34c3-4080-b786-1e408205a60f"
   },
   "outputs": [],
   "source": [
    "len(boolean_labels)"
   ]
  },
  {
   "cell_type": "code",
   "execution_count": null,
   "metadata": {
    "colab": {
     "base_uri": "https://localhost:8080/"
    },
    "executionInfo": {
     "elapsed": 138,
     "status": "ok",
     "timestamp": 1628688140156,
     "user": {
      "displayName": "Asaad Areeb",
      "photoUrl": "https://lh3.googleusercontent.com/a-/AOh14Gg0BvII_YnaeA5HcSUholmq4o3DorlmigeONT6o=s64",
      "userId": "15430707477961945856"
     },
     "user_tz": -300
    },
    "id": "ivo_FoaLzVde",
    "outputId": "6cb7d13a-a214-4229-beab-2d4e7bce2686"
   },
   "outputs": [],
   "source": [
    "# Example: Turning boolean array into integers\n",
    "print(labels[0]) # original label\n",
    "print(np.where(unique_breeds == labels[0])) # index where label occurs\n",
    "print(boolean_labels[0].argmax()) # index where label occurs in boolean array\n",
    "print(boolean_labels[0].astype(int)) # there will be a 1  where the sample label occurs"
   ]
  },
  {
   "cell_type": "markdown",
   "metadata": {
    "id": "j2ugpeY72YJk"
   },
   "source": [
    "### Creating our own validation set\n",
    "Since the dataset from Kaggle doesn't come with a validation set, we're going to create our own."
   ]
  },
  {
   "cell_type": "code",
   "execution_count": null,
   "metadata": {
    "executionInfo": {
     "elapsed": 135,
     "status": "ok",
     "timestamp": 1628688140157,
     "user": {
      "displayName": "Asaad Areeb",
      "photoUrl": "https://lh3.googleusercontent.com/a-/AOh14Gg0BvII_YnaeA5HcSUholmq4o3DorlmigeONT6o=s64",
      "userId": "15430707477961945856"
     },
     "user_tz": -300
    },
    "id": "GLHh6s0-cVsU"
   },
   "outputs": [],
   "source": [
    "# Setup X & y variables\n",
    "X = filenames\n",
    "y = boolean_labels"
   ]
  },
  {
   "cell_type": "markdown",
   "metadata": {
    "id": "Mw7uNwEJc3o1"
   },
   "source": [
    "We're going to start off experimenting with ~1000 images and increase as needed."
   ]
  },
  {
   "cell_type": "code",
   "execution_count": null,
   "metadata": {
    "executionInfo": {
     "elapsed": 138,
     "status": "ok",
     "timestamp": 1628688140161,
     "user": {
      "displayName": "Asaad Areeb",
      "photoUrl": "https://lh3.googleusercontent.com/a-/AOh14Gg0BvII_YnaeA5HcSUholmq4o3DorlmigeONT6o=s64",
      "userId": "15430707477961945856"
     },
     "user_tz": -300
    },
    "id": "6aPn9zbLda8_"
   },
   "outputs": [],
   "source": [
    "# Set a number of images to use for experimenting"
   ]
  },
  {
   "cell_type": "code",
   "execution_count": null,
   "metadata": {
    "executionInfo": {
     "elapsed": 140,
     "status": "ok",
     "timestamp": 1628688140163,
     "user": {
      "displayName": "Asaad Areeb",
      "photoUrl": "https://lh3.googleusercontent.com/a-/AOh14Gg0BvII_YnaeA5HcSUholmq4o3DorlmigeONT6o=s64",
      "userId": "15430707477961945856"
     },
     "user_tz": -300
    },
    "id": "C_QsNr5udmXi"
   },
   "outputs": [],
   "source": [
    "NUM_IMAGES = 1000 #@param {type:\"slider\", min:1000, max:10000, step:1000}"
   ]
  },
  {
   "cell_type": "code",
   "execution_count": null,
   "metadata": {
    "colab": {
     "base_uri": "https://localhost:8080/"
    },
    "executionInfo": {
     "elapsed": 141,
     "status": "ok",
     "timestamp": 1628688140164,
     "user": {
      "displayName": "Asaad Areeb",
      "photoUrl": "https://lh3.googleusercontent.com/a-/AOh14Gg0BvII_YnaeA5HcSUholmq4o3DorlmigeONT6o=s64",
      "userId": "15430707477961945856"
     },
     "user_tz": -300
    },
    "id": "3hXmizZlecv7",
    "outputId": "780f6a23-612d-45a7-e5d5-cdd4f391b3a9"
   },
   "outputs": [],
   "source": [
    "# Let's split our data into train and validation sets\n",
    "from sklearn.model_selection import train_test_split\n",
    "\n",
    "# Split them into training and validation of total size NUM_IMAGES\n",
    "X_train, X_val, y_train, y_val = train_test_split(X[:NUM_IMAGES],\n",
    "                                                  y[:NUM_IMAGES],\n",
    "                                                  test_size=0.2,\n",
    "                                                  random_state=42)\n",
    "\n",
    "len(X_train), len(y_train), len(X_val), len(y_val)"
   ]
  },
  {
   "cell_type": "code",
   "execution_count": null,
   "metadata": {
    "colab": {
     "base_uri": "https://localhost:8080/"
    },
    "executionInfo": {
     "elapsed": 135,
     "status": "ok",
     "timestamp": 1628688140165,
     "user": {
      "displayName": "Asaad Areeb",
      "photoUrl": "https://lh3.googleusercontent.com/a-/AOh14Gg0BvII_YnaeA5HcSUholmq4o3DorlmigeONT6o=s64",
      "userId": "15430707477961945856"
     },
     "user_tz": -300
    },
    "id": "NTgxtM8QgZhL",
    "outputId": "58925660-1fa6-4445-e026-60f87f104499"
   },
   "outputs": [],
   "source": [
    "# Let's have a quick look at the training data\n",
    "X_train[:5], y_train[:2]"
   ]
  },
  {
   "cell_type": "markdown",
   "metadata": {
    "id": "GU9usFwcgw48"
   },
   "source": [
    "## Preprocessing Images (turning images into Tensors)\n"
   ]
  },
  {
   "cell_type": "code",
   "execution_count": null,
   "metadata": {
    "colab": {
     "base_uri": "https://localhost:8080/"
    },
    "executionInfo": {
     "elapsed": 133,
     "status": "ok",
     "timestamp": 1628688140167,
     "user": {
      "displayName": "Asaad Areeb",
      "photoUrl": "https://lh3.googleusercontent.com/a-/AOh14Gg0BvII_YnaeA5HcSUholmq4o3DorlmigeONT6o=s64",
      "userId": "15430707477961945856"
     },
     "user_tz": -300
    },
    "id": "HgIYa2p-llkV",
    "outputId": "c0dd213b-e2ee-4b50-87c4-4148a06d8cfa"
   },
   "outputs": [],
   "source": [
    "# convert image into NumPy\n",
    "from matplotlib.pyplot import imread\n",
    "image = imread(filenames[42])\n",
    "image.shape"
   ]
  },
  {
   "cell_type": "code",
   "execution_count": null,
   "metadata": {
    "colab": {
     "base_uri": "https://localhost:8080/"
    },
    "executionInfo": {
     "elapsed": 131,
     "status": "ok",
     "timestamp": 1628688140171,
     "user": {
      "displayName": "Asaad Areeb",
      "photoUrl": "https://lh3.googleusercontent.com/a-/AOh14Gg0BvII_YnaeA5HcSUholmq4o3DorlmigeONT6o=s64",
      "userId": "15430707477961945856"
     },
     "user_tz": -300
    },
    "id": "AZ_rp9N3qKqq",
    "outputId": "5c4d9b85-da40-4a29-bc7e-1dc112b95bdf"
   },
   "outputs": [],
   "source": [
    "image.max(), image.min()"
   ]
  },
  {
   "cell_type": "code",
   "execution_count": null,
   "metadata": {
    "colab": {
     "base_uri": "https://localhost:8080/"
    },
    "executionInfo": {
     "elapsed": 133,
     "status": "ok",
     "timestamp": 1628688140179,
     "user": {
      "displayName": "Asaad Areeb",
      "photoUrl": "https://lh3.googleusercontent.com/a-/AOh14Gg0BvII_YnaeA5HcSUholmq4o3DorlmigeONT6o=s64",
      "userId": "15430707477961945856"
     },
     "user_tz": -300
    },
    "id": "q1B1D9Bxqxya",
    "outputId": "e8d9702f-2b27-4d34-d0a6-5e213fd1111b"
   },
   "outputs": [],
   "source": [
    "image[:2]"
   ]
  },
  {
   "cell_type": "code",
   "execution_count": null,
   "metadata": {
    "colab": {
     "base_uri": "https://localhost:8080/"
    },
    "executionInfo": {
     "elapsed": 132,
     "status": "ok",
     "timestamp": 1628688140182,
     "user": {
      "displayName": "Asaad Areeb",
      "photoUrl": "https://lh3.googleusercontent.com/a-/AOh14Gg0BvII_YnaeA5HcSUholmq4o3DorlmigeONT6o=s64",
      "userId": "15430707477961945856"
     },
     "user_tz": -300
    },
    "id": "lSA1Ear0qR6K",
    "outputId": "7d18d0ce-4f90-4627-d473-506f2813df0f"
   },
   "outputs": [],
   "source": [
    "# Turn image into Tensor\n",
    "tf.constant(image)[:2]"
   ]
  },
  {
   "cell_type": "code",
   "execution_count": null,
   "metadata": {
    "executionInfo": {
     "elapsed": 128,
     "status": "ok",
     "timestamp": 1628688140183,
     "user": {
      "displayName": "Asaad Areeb",
      "photoUrl": "https://lh3.googleusercontent.com/a-/AOh14Gg0BvII_YnaeA5HcSUholmq4o3DorlmigeONT6o=s64",
      "userId": "15430707477961945856"
     },
     "user_tz": -300
    },
    "id": "rIGMHbz8t0yF"
   },
   "outputs": [],
   "source": [
    "# Define image size\n",
    "IMG_SIZE = 224\n",
    "\n",
    "# create a function for preprocessing images\n",
    "def process_image(image_path, img_size=IMG_SIZE):\n",
    "  \"\"\"\n",
    "  Takes an image filepath and turns the image into a Tensor.\n",
    "  \"\"\"\n",
    "  # Read in an image file\n",
    "  image = tf.io.read_file(image_path)\n",
    "  # Turn the jpg image into numerical Tensor with 3 color channels (Red, Green, Blue)\n",
    "  image = tf.image.decode_jpeg(image, channels=3)\n",
    "  # convert the colour channel values from 0-255 to 0-1 values\n",
    "  image = tf.image.convert_image_dtype(image, tf.float32)\n",
    "  # Resize the image to our desired value (244, 244)\n",
    "  image = tf.image.resize(image, size=[img_size, img_size])\n",
    "  return image"
   ]
  },
  {
   "cell_type": "markdown",
   "metadata": {
    "id": "X6tDVqrc2odq"
   },
   "source": [
    "## Turning our data into batches\n"
   ]
  },
  {
   "cell_type": "code",
   "execution_count": null,
   "metadata": {
    "executionInfo": {
     "elapsed": 132,
     "status": "ok",
     "timestamp": 1628688140187,
     "user": {
      "displayName": "Asaad Areeb",
      "photoUrl": "https://lh3.googleusercontent.com/a-/AOh14Gg0BvII_YnaeA5HcSUholmq4o3DorlmigeONT6o=s64",
      "userId": "15430707477961945856"
     },
     "user_tz": -300
    },
    "id": "-Ky0jviq4CT8"
   },
   "outputs": [],
   "source": [
    "# create a simple function to return a tuple (image, label)\n",
    "def get_image_label(image_path, label):\n",
    "  \"\"\"\n",
    "  Takes an image file path name and the associated label, process the image and returns a tuple of (image, label).\n",
    "  \"\"\"\n",
    "  image = process_image(image_path)\n",
    "  return image, label"
   ]
  },
  {
   "cell_type": "markdown",
   "metadata": {
    "id": "FDNGzRMF6ZPT"
   },
   "source": [
    "Now we've got a way to turn our data into tulpes of Tensors in the form of: `(image, label)`, let's make a function to turn all of our data `(x & y)` into batches!"
   ]
  },
  {
   "cell_type": "code",
   "execution_count": null,
   "metadata": {
    "executionInfo": {
     "elapsed": 132,
     "status": "ok",
     "timestamp": 1628688140188,
     "user": {
      "displayName": "Asaad Areeb",
      "photoUrl": "https://lh3.googleusercontent.com/a-/AOh14Gg0BvII_YnaeA5HcSUholmq4o3DorlmigeONT6o=s64",
      "userId": "15430707477961945856"
     },
     "user_tz": -300
    },
    "id": "kqD_aToc9bgB"
   },
   "outputs": [],
   "source": [
    "# Define the batch size, 32 is a good start\n",
    "BATCH_SIZE = 32\n",
    "\n",
    "# Let's create a function that turn data into batches\n",
    "def create_data_batches(X, y=None, batch_size=BATCH_SIZE, valid_data=False, test_data=False):\n",
    "  \"\"\"\n",
    "  Creates batches of data out of image (X) & label (y) pairs.\n",
    "  Shuffles the data if it's training data but doesn't shuffle if it's validation data.\n",
    "  Also accepts test data as input (no labels).\n",
    "  \"\"\"\n",
    "\n",
    "  # if the data is a test dataset, we don't have labels\n",
    "  if test_data:\n",
    "    print(\"Creating test data batches...\")\n",
    "    data = tf.data.Dataset.from_tensor_slices((tf.constant(X))) # Only filepaths (no labels)\n",
    "    data_batch = data.map(process_image).batch(BATCH_SIZE)\n",
    "    return data_batch\n",
    "\n",
    "  # If the data is a valid dataset, we don't need to shuffle it\n",
    "  elif valid_data:\n",
    "    print(\"Creating validation data batches...\")\n",
    "    data = tf.data.Dataset.from_tensor_slices((tf.constant(X),   # filepaths\n",
    "                                               tf.constant(y)))  # labels\n",
    "    data_batch = data.map(get_image_label).batch(BATCH_SIZE)\n",
    "    return data_batch\n",
    "\n",
    "  else:\n",
    "    print(\"Creating training data batches...\")\n",
    "    # Turn filepaths & labels into Tensors\n",
    "    data = tf.data.Dataset.from_tensor_slices((tf.constant(X),\n",
    "                                               tf.constant(y)))\n",
    "    # Shuffling pathnames and labels before mapping processor function is faster than shuffling images\n",
    "    data = data.shuffle(buffer_size=len(X))\n",
    "\n",
    "    # Create (image, label) tuples, (this also turns the image path into a preprocessed image)\n",
    "    data = data.map(get_image_label)\n",
    "\n",
    "    # Turn the training data into batches\n",
    "    data_batch = data.batch(BATCH_SIZE)\n",
    "    return data_batch"
   ]
  },
  {
   "cell_type": "code",
   "execution_count": null,
   "metadata": {
    "colab": {
     "base_uri": "https://localhost:8080/"
    },
    "executionInfo": {
     "elapsed": 134,
     "status": "ok",
     "timestamp": 1628688140190,
     "user": {
      "displayName": "Asaad Areeb",
      "photoUrl": "https://lh3.googleusercontent.com/a-/AOh14Gg0BvII_YnaeA5HcSUholmq4o3DorlmigeONT6o=s64",
      "userId": "15430707477961945856"
     },
     "user_tz": -300
    },
    "id": "Gy-2JfJ2IIfK",
    "outputId": "24694842-b8c7-48a2-8306-c7a31bae6083"
   },
   "outputs": [],
   "source": [
    "# Create training and validation data batches\n",
    "train_data = create_data_batches(X_train, y_train)\n",
    "val_data = create_data_batches(X_val, y_val, valid_data=True)"
   ]
  },
  {
   "cell_type": "code",
   "execution_count": null,
   "metadata": {
    "colab": {
     "base_uri": "https://localhost:8080/"
    },
    "executionInfo": {
     "elapsed": 130,
     "status": "ok",
     "timestamp": 1628688140191,
     "user": {
      "displayName": "Asaad Areeb",
      "photoUrl": "https://lh3.googleusercontent.com/a-/AOh14Gg0BvII_YnaeA5HcSUholmq4o3DorlmigeONT6o=s64",
      "userId": "15430707477961945856"
     },
     "user_tz": -300
    },
    "id": "8vonMsRCJmAo",
    "outputId": "ce7df269-7b6f-4957-8e0a-7f5b6599804f"
   },
   "outputs": [],
   "source": [
    "# Check out the different attributes of our data batches\n",
    "train_data.element_spec, val_data.element_spec"
   ]
  },
  {
   "cell_type": "markdown",
   "metadata": {
    "id": "DvAU-u48KRS9"
   },
   "source": [
    "## Visualizing Data Batches\n",
    "\n",
    "Our data is now in batches, however, these can be hard to understand/comprehend, let's visualize them!"
   ]
  },
  {
   "cell_type": "code",
   "execution_count": null,
   "metadata": {
    "executionInfo": {
     "elapsed": 129,
     "status": "ok",
     "timestamp": 1628688140194,
     "user": {
      "displayName": "Asaad Areeb",
      "photoUrl": "https://lh3.googleusercontent.com/a-/AOh14Gg0BvII_YnaeA5HcSUholmq4o3DorlmigeONT6o=s64",
      "userId": "15430707477961945856"
     },
     "user_tz": -300
    },
    "id": "1dLyxehRMe65"
   },
   "outputs": [],
   "source": [
    "import matplotlib.pyplot as plt\n",
    "\n",
    "# Create a function for viewing images in a data batch\n",
    "def show_25_images(images, labels):\n",
    "  \"\"\"\n",
    "  Displays a plot of 25 images and their labels from a data batch.\n",
    "  \"\"\"\n",
    "  # Setup the figure\n",
    "  plt.figure(figsize=(10, 10))\n",
    "  # Loop through 25 (for displaying 25 images)\n",
    "  for i in range(25):\n",
    "    # Create subplots (5 rows, 5 columns)\n",
    "    ax = plt.subplot(5, 5, i+1)\n",
    "    # Display an image\n",
    "    plt.imshow(images[i])\n",
    "    # Add the image label as the title\n",
    "    plt.title(unique_breeds[labels[i].argmax()])\n",
    "    # Turn the grid lines off\n",
    "    plt.axis(\"off\")\n"
   ]
  },
  {
   "cell_type": "code",
   "execution_count": null,
   "metadata": {
    "colab": {
     "base_uri": "https://localhost:8080/",
     "height": 591
    },
    "executionInfo": {
     "elapsed": 131,
     "status": "ok",
     "timestamp": 1628688140196,
     "user": {
      "displayName": "Asaad Areeb",
      "photoUrl": "https://lh3.googleusercontent.com/a-/AOh14Gg0BvII_YnaeA5HcSUholmq4o3DorlmigeONT6o=s64",
      "userId": "15430707477961945856"
     },
     "user_tz": -300
    },
    "id": "UyVX8sAaP4jJ",
    "outputId": "d881fea5-b848-4805-9803-19f2d92d0a4e"
   },
   "outputs": [],
   "source": [
    "# Now let's visualize the data in a training batch\n",
    "train_images, train_labels = next(train_data.as_numpy_iterator())\n",
    "show_25_images(train_images, train_labels)"
   ]
  },
  {
   "cell_type": "code",
   "execution_count": null,
   "metadata": {
    "colab": {
     "base_uri": "https://localhost:8080/",
     "height": 591
    },
    "executionInfo": {
     "elapsed": 127,
     "status": "ok",
     "timestamp": 1628688140196,
     "user": {
      "displayName": "Asaad Areeb",
      "photoUrl": "https://lh3.googleusercontent.com/a-/AOh14Gg0BvII_YnaeA5HcSUholmq4o3DorlmigeONT6o=s64",
      "userId": "15430707477961945856"
     },
     "user_tz": -300
    },
    "id": "NvbEvCu_TN_J",
    "outputId": "47310690-baae-45ee-bc9b-f5905a5daa4f"
   },
   "outputs": [],
   "source": [
    "# Now let's visualize our validation set\n",
    "val_images, val_labels = next(val_data.as_numpy_iterator())\n",
    "show_25_images(val_images, val_labels)"
   ]
  },
  {
   "cell_type": "markdown",
   "metadata": {
    "id": "VmUqN3rjVu1O"
   },
   "source": [
    "## Building a Model\n",
    "\n",
    "Before we build a model, there are a few things we need to define:\n",
    "* The input shape (images shape, in the form of Tensors) to our model.\n",
    "* The output shape (image labels, in the form of Tensors) of our model.\n",
    "* The URL of the model we want to use from TensorFlow Hub - https://tfhub.dev/google/imagenet/mobilenet_v2_130_224/classification/5"
   ]
  },
  {
   "cell_type": "code",
   "execution_count": null,
   "metadata": {
    "executionInfo": {
     "elapsed": 126,
     "status": "ok",
     "timestamp": 1628688140199,
     "user": {
      "displayName": "Asaad Areeb",
      "photoUrl": "https://lh3.googleusercontent.com/a-/AOh14Gg0BvII_YnaeA5HcSUholmq4o3DorlmigeONT6o=s64",
      "userId": "15430707477961945856"
     },
     "user_tz": -300
    },
    "id": "uKbyKh9FY2XA"
   },
   "outputs": [],
   "source": [
    "# Setup input shape to the model\n",
    "INPUT_SHAPE = [None, IMG_SIZE, IMG_SIZE, 3] # batch, height, width, colour channels\n",
    "\n",
    "# Setup output shape of our model\n",
    "OUTPUT_SHAPE = len(unique_breeds)\n",
    "\n",
    "# Setup model URL from TensorFlow Hub\n",
    "MODEL_URL = \"https://tfhub.dev/google/imagenet/mobilenet_v2_130_224/classification/5\" # updated version\n",
    "           # https://tfhub.dev/google/imagenet/mobilenet_v2_130_224/classification/4  # old version"
   ]
  },
  {
   "cell_type": "markdown",
   "metadata": {
    "id": "JCYKpd_wPkT2"
   },
   "source": [
    "Now we've got our inputs, outputs and model ready to go.\n",
    "Let's put them together into a Keras deep learning model.\n",
    "\n",
    "Knowing this, let's create a function which:\n",
    "* Takes the input shape, output shape and model we've chosen as parameters.\n",
    "* Defines the layers in a Keras model in sequential fashion (do this first, then this, then that).\n",
    "* Compiles the model (says it should be evaluated and improved).\n",
    "* Builds the model (tells the model the input shape it'll be getting).\n",
    "* Returns the model."
   ]
  },
  {
   "cell_type": "code",
   "execution_count": null,
   "metadata": {
    "executionInfo": {
     "elapsed": 126,
     "status": "ok",
     "timestamp": 1628688140200,
     "user": {
      "displayName": "Asaad Areeb",
      "photoUrl": "https://lh3.googleusercontent.com/a-/AOh14Gg0BvII_YnaeA5HcSUholmq4o3DorlmigeONT6o=s64",
      "userId": "15430707477961945856"
     },
     "user_tz": -300
    },
    "id": "crXCxQWWUtE7"
   },
   "outputs": [],
   "source": [
    "# Create a function which builds a Keras model\n",
    "def create_model(input_shape=INPUT_SHAPE, output_shape=OUTPUT_SHAPE, model_url=MODEL_URL):\n",
    "  print(\"Building model with:\", MODEL_URL)\n",
    "\n",
    "  # Setup the model layers\n",
    "  model = tf.keras.Sequential([\n",
    "                               hub.KerasLayer(model_url), # Layer 1 (input layer)\n",
    "                               tf.keras.layers.Dense(units=output_shape,\n",
    "                                                     activation=\"softmax\") # Layer 2 (output layer) # for binary classification, activation = sigmoid\n",
    "  ])\n",
    "\n",
    "  # Compile the model\n",
    "  model.compile(\n",
    "      loss=tf.keras.losses.CategoricalCrossentropy(), # for binary classification, loss = Binary Crossentropy\n",
    "      optimizer= tf.keras.optimizers.Adam(),\n",
    "      metrics=[\"accuracy\"]\n",
    "  )\n",
    "\n",
    "  # Build the model\n",
    "  model.build(input_shape)\n",
    "\n",
    "  return model"
   ]
  },
  {
   "cell_type": "code",
   "execution_count": null,
   "metadata": {
    "colab": {
     "base_uri": "https://localhost:8080/"
    },
    "executionInfo": {
     "elapsed": 129,
     "status": "ok",
     "timestamp": 1628688140203,
     "user": {
      "displayName": "Asaad Areeb",
      "photoUrl": "https://lh3.googleusercontent.com/a-/AOh14Gg0BvII_YnaeA5HcSUholmq4o3DorlmigeONT6o=s64",
      "userId": "15430707477961945856"
     },
     "user_tz": -300
    },
    "id": "ZKeMEz-MYUIw",
    "outputId": "6af923aa-b67b-418b-f3c5-0bb9089162da"
   },
   "outputs": [],
   "source": [
    "model = create_model()\n",
    "model.summary()"
   ]
  },
  {
   "cell_type": "markdown",
   "metadata": {
    "id": "sJjL84aFYuI2"
   },
   "source": [
    "## Creating callbacks\n",
    "\n",
    "Callbacks are helper functions a model can use during training to do things such as save it's progress, check it's progress or stop training early if model stops improving.\n",
    "\n",
    "We'll create two callbacks, one for TensorBoard which helps track our models progress and other for early stopping which prevents our model from training too long.\n",
    "\n",
    "### TensorBoard Callback\n",
    "\n",
    "To setup a TensorBoard callback, we need to do 3 things:\n",
    "1. Load the TensorBoard notebook extension\n",
    "2. Create a TensorBoard callback which is able to save logs to a directory and pass it to our model's `fit()` function.\n",
    "3. Visualize our models training logs with the `%tensorboard` magic fuction (we'll do this after model training)."
   ]
  },
  {
   "cell_type": "code",
   "execution_count": null,
   "metadata": {
    "colab": {
     "base_uri": "https://localhost:8080/"
    },
    "executionInfo": {
     "elapsed": 124,
     "status": "ok",
     "timestamp": 1628688140204,
     "user": {
      "displayName": "Asaad Areeb",
      "photoUrl": "https://lh3.googleusercontent.com/a-/AOh14Gg0BvII_YnaeA5HcSUholmq4o3DorlmigeONT6o=s64",
      "userId": "15430707477961945856"
     },
     "user_tz": -300
    },
    "id": "dzvkKQR7mrAo",
    "outputId": "63d29da8-1ebe-4e3e-d737-be95dcb4e832"
   },
   "outputs": [],
   "source": [
    "# Load TensorBoard notebook  extension\n",
    "%load_ext tensorboard"
   ]
  },
  {
   "cell_type": "code",
   "execution_count": null,
   "metadata": {
    "executionInfo": {
     "elapsed": 122,
     "status": "ok",
     "timestamp": 1628688140207,
     "user": {
      "displayName": "Asaad Areeb",
      "photoUrl": "https://lh3.googleusercontent.com/a-/AOh14Gg0BvII_YnaeA5HcSUholmq4o3DorlmigeONT6o=s64",
      "userId": "15430707477961945856"
     },
     "user_tz": -300
    },
    "id": "5SQvr2_JoS0S"
   },
   "outputs": [],
   "source": [
    "import datetime\n",
    "\n",
    "# Create a function to build TensorBoard callback\n",
    "def create_tensorboard_callback():\n",
    "  # create a log directory for storing TensorBoard logs\n",
    "  logdir = os.path.join(\"drive/MyDrive/dog vision/logs\",\n",
    "                        # Make it so the logs get tracked whenever we run an experiment\n",
    "                        datetime.datetime.now().strftime(\"%Y%m%d-%H%M%S\"))\n",
    "  return tf.keras.callbacks.TensorBoard(logdir)"
   ]
  },
  {
   "cell_type": "markdown",
   "metadata": {
    "id": "IvILW0HrsR1m"
   },
   "source": [
    "### Early Stopping Callback\n",
    "\n",
    "Ealry stopping helps our model from overfitting by stopping training if a certain evaluation metric stops improving.\n",
    "\n",
    "https://www.tensorflow.org/api_docs/python/tf/keras/callbacks/EarlyStopping\n"
   ]
  },
  {
   "cell_type": "code",
   "execution_count": null,
   "metadata": {
    "executionInfo": {
     "elapsed": 124,
     "status": "ok",
     "timestamp": 1628688140209,
     "user": {
      "displayName": "Asaad Areeb",
      "photoUrl": "https://lh3.googleusercontent.com/a-/AOh14Gg0BvII_YnaeA5HcSUholmq4o3DorlmigeONT6o=s64",
      "userId": "15430707477961945856"
     },
     "user_tz": -300
    },
    "id": "BFV8yQQcubUO"
   },
   "outputs": [],
   "source": [
    "# Create early stopping callback\n",
    "early_stopping = tf.keras.callbacks.EarlyStopping(monitor=\"val_accuracy\",\n",
    "                                                  patience=3)"
   ]
  },
  {
   "cell_type": "markdown",
   "metadata": {
    "id": "mfLSnqGTu_Ta"
   },
   "source": [
    "## Training of model (on subset of data)\n",
    "\n",
    "Our first model is only going to train on 1000 images, to make sure everything is working."
   ]
  },
  {
   "cell_type": "code",
   "execution_count": null,
   "metadata": {
    "executionInfo": {
     "elapsed": 125,
     "status": "ok",
     "timestamp": 1628688140210,
     "user": {
      "displayName": "Asaad Areeb",
      "photoUrl": "https://lh3.googleusercontent.com/a-/AOh14Gg0BvII_YnaeA5HcSUholmq4o3DorlmigeONT6o=s64",
      "userId": "15430707477961945856"
     },
     "user_tz": -300
    },
    "id": "KkmRGQLarX07"
   },
   "outputs": [],
   "source": [
    "NUM_EPOCHS = 100 #@param {type: \"slider\", min:10, max:100, step:10}"
   ]
  },
  {
   "cell_type": "code",
   "execution_count": null,
   "metadata": {
    "colab": {
     "base_uri": "https://localhost:8080/"
    },
    "executionInfo": {
     "elapsed": 125,
     "status": "ok",
     "timestamp": 1628688140211,
     "user": {
      "displayName": "Asaad Areeb",
      "photoUrl": "https://lh3.googleusercontent.com/a-/AOh14Gg0BvII_YnaeA5HcSUholmq4o3DorlmigeONT6o=s64",
      "userId": "15430707477961945856"
     },
     "user_tz": -300
    },
    "id": "-7YaIzRNsIWp",
    "outputId": "103bc588-44da-48c0-98c2-6d349cf00a15"
   },
   "outputs": [],
   "source": [
    "# Check to make sure we're still running on GPU\n",
    "print(\"GPU\", \"Available (YESSS!!!)\" if tf.config.list_physical_devices(\"GPU\") else \"not available :(\")"
   ]
  },
  {
   "cell_type": "markdown",
   "metadata": {
    "id": "fw0GkdKytFBV"
   },
   "source": [
    "Let's create a function which trains a model.\n",
    "\n",
    "* Create a model using `create_model()`\n",
    "* Setup a TensorBoard callback using `create_tensorboard_callback()`\n",
    "* Call the `fit()` function on our model passing it the training data, validation data, number of epochs to train for (`NUM_EPOCHS`) and the callbacks we'd like to use.\n",
    "* Return the model."
   ]
  },
  {
   "cell_type": "code",
   "execution_count": null,
   "metadata": {
    "executionInfo": {
     "elapsed": 122,
     "status": "ok",
     "timestamp": 1628688140213,
     "user": {
      "displayName": "Asaad Areeb",
      "photoUrl": "https://lh3.googleusercontent.com/a-/AOh14Gg0BvII_YnaeA5HcSUholmq4o3DorlmigeONT6o=s64",
      "userId": "15430707477961945856"
     },
     "user_tz": -300
    },
    "id": "x7lKikZluleC"
   },
   "outputs": [],
   "source": [
    "# Build a function to train and return a trainied model\n",
    "def train_model():\n",
    "  \"\"\"\n",
    "  Trains a given model and return a trained version.\n",
    "  \"\"\"\n",
    "  # Create a model\n",
    "  model = create_model()\n",
    "\n",
    "  # Create new TensorBoard session everytime we train a model\n",
    "  tensorboard = create_tensorboard_callback()\n",
    "\n",
    "  # Fit the model to the data passing it the callbacks we created\n",
    "  model.fit(x=train_data,\n",
    "            epochs=NUM_EPOCHS,\n",
    "            validation_data=val_data,\n",
    "            validation_freq=1,\n",
    "            callbacks=[tensorboard, early_stopping])\n",
    "  # Return the fitted model\n",
    "  return model"
   ]
  },
  {
   "cell_type": "code",
   "execution_count": null,
   "metadata": {
    "colab": {
     "base_uri": "https://localhost:8080/"
    },
    "executionInfo": {
     "elapsed": 7551,
     "status": "ok",
     "timestamp": 1628688147643,
     "user": {
      "displayName": "Asaad Areeb",
      "photoUrl": "https://lh3.googleusercontent.com/a-/AOh14Gg0BvII_YnaeA5HcSUholmq4o3DorlmigeONT6o=s64",
      "userId": "15430707477961945856"
     },
     "user_tz": -300
    },
    "id": "4eNVCWPjxi94",
    "outputId": "745511b4-6c8d-4598-c97e-0c7cdf1cdd69"
   },
   "outputs": [],
   "source": [
    "# Fit the model to the data\n",
    "model = train_model()"
   ]
  },
  {
   "cell_type": "markdown",
   "metadata": {
    "id": "XjCTCfoTyCU4"
   },
   "source": [
    "**Question:** It looks like our model is overfitting because it's performing far better on the training dataset than on the validation dataset, what are some ways to prevent model overfitting in deep learning neural networks?\n",
    "\n",
    "**Note:** Overfitting to begin with is a good thing! It means our model is learning!"
   ]
  },
  {
   "cell_type": "markdown",
   "metadata": {
    "id": "qDg9e3o41LkV"
   },
   "source": [
    "### Checking the TensorBoard logs\n",
    "\n",
    "The TensorBoard magic function (`%tensorboard`) will access the logs directory we created earlier and visualize it's contents."
   ]
  },
  {
   "cell_type": "code",
   "execution_count": null,
   "metadata": {
    "colab": {
     "base_uri": "https://localhost:8080/",
     "height": 837
    },
    "executionInfo": {
     "elapsed": 44,
     "status": "ok",
     "timestamp": 1628688147645,
     "user": {
      "displayName": "Asaad Areeb",
      "photoUrl": "https://lh3.googleusercontent.com/a-/AOh14Gg0BvII_YnaeA5HcSUholmq4o3DorlmigeONT6o=s64",
      "userId": "15430707477961945856"
     },
     "user_tz": -300
    },
    "id": "s-2xs1pR3FTt",
    "outputId": "c9ff0d7e-6dc4-453a-c477-0d1be87f4418"
   },
   "outputs": [],
   "source": [
    "%tensorboard --logdir drive/MyDrive/dog\\ vision/logs"
   ]
  },
  {
   "cell_type": "markdown",
   "metadata": {
    "id": "Sk2orWaU31tD"
   },
   "source": [
    "## Making and Evaluating predictions using a trained model"
   ]
  },
  {
   "cell_type": "code",
   "execution_count": null,
   "metadata": {
    "colab": {
     "base_uri": "https://localhost:8080/"
    },
    "executionInfo": {
     "elapsed": 19,
     "status": "ok",
     "timestamp": 1628688147647,
     "user": {
      "displayName": "Asaad Areeb",
      "photoUrl": "https://lh3.googleusercontent.com/a-/AOh14Gg0BvII_YnaeA5HcSUholmq4o3DorlmigeONT6o=s64",
      "userId": "15430707477961945856"
     },
     "user_tz": -300
    },
    "id": "pjS1IvqD9nrz",
    "outputId": "76489e24-7f0d-43e2-fccd-c9f9accf735d"
   },
   "outputs": [],
   "source": [
    "val_data"
   ]
  },
  {
   "cell_type": "code",
   "execution_count": null,
   "metadata": {
    "colab": {
     "base_uri": "https://localhost:8080/"
    },
    "executionInfo": {
     "elapsed": 8897,
     "status": "ok",
     "timestamp": 1628688156534,
     "user": {
      "displayName": "Asaad Areeb",
      "photoUrl": "https://lh3.googleusercontent.com/a-/AOh14Gg0BvII_YnaeA5HcSUholmq4o3DorlmigeONT6o=s64",
      "userId": "15430707477961945856"
     },
     "user_tz": -300
    },
    "id": "nFyi1t197yts",
    "outputId": "3cd220a7-ba25-4877-b486-da2897f68125"
   },
   "outputs": [],
   "source": [
    "# Make predictions on the validation data (not used to train on)\n",
    "predictions = model.predict(val_data, verbose=1)\n",
    "predictions"
   ]
  },
  {
   "cell_type": "code",
   "execution_count": null,
   "metadata": {
    "colab": {
     "base_uri": "https://localhost:8080/"
    },
    "executionInfo": {
     "elapsed": 93,
     "status": "ok",
     "timestamp": 1628688156536,
     "user": {
      "displayName": "Asaad Areeb",
      "photoUrl": "https://lh3.googleusercontent.com/a-/AOh14Gg0BvII_YnaeA5HcSUholmq4o3DorlmigeONT6o=s64",
      "userId": "15430707477961945856"
     },
     "user_tz": -300
    },
    "id": "l7Je9ora96eR",
    "outputId": "9c609492-4b8e-4828-caa6-2537bcadf660"
   },
   "outputs": [],
   "source": [
    "predictions.shape"
   ]
  },
  {
   "cell_type": "code",
   "execution_count": null,
   "metadata": {
    "colab": {
     "base_uri": "https://localhost:8080/"
    },
    "executionInfo": {
     "elapsed": 84,
     "status": "ok",
     "timestamp": 1628688156537,
     "user": {
      "displayName": "Asaad Areeb",
      "photoUrl": "https://lh3.googleusercontent.com/a-/AOh14Gg0BvII_YnaeA5HcSUholmq4o3DorlmigeONT6o=s64",
      "userId": "15430707477961945856"
     },
     "user_tz": -300
    },
    "id": "AKNXFq6z-EUY",
    "outputId": "c3d7c1a1-31e8-408d-fb4a-f963e619fb0a"
   },
   "outputs": [],
   "source": [
    "len(y_val)"
   ]
  },
  {
   "cell_type": "code",
   "execution_count": null,
   "metadata": {
    "colab": {
     "base_uri": "https://localhost:8080/"
    },
    "executionInfo": {
     "elapsed": 73,
     "status": "ok",
     "timestamp": 1628688156538,
     "user": {
      "displayName": "Asaad Areeb",
      "photoUrl": "https://lh3.googleusercontent.com/a-/AOh14Gg0BvII_YnaeA5HcSUholmq4o3DorlmigeONT6o=s64",
      "userId": "15430707477961945856"
     },
     "user_tz": -300
    },
    "id": "lfsDeK-w-Kef",
    "outputId": "bac9954e-1587-4473-a6cb-d40008aca6b4"
   },
   "outputs": [],
   "source": [
    "len(unique_breeds)"
   ]
  },
  {
   "cell_type": "code",
   "execution_count": null,
   "metadata": {
    "colab": {
     "base_uri": "https://localhost:8080/"
    },
    "executionInfo": {
     "elapsed": 63,
     "status": "ok",
     "timestamp": 1628688156541,
     "user": {
      "displayName": "Asaad Areeb",
      "photoUrl": "https://lh3.googleusercontent.com/a-/AOh14Gg0BvII_YnaeA5HcSUholmq4o3DorlmigeONT6o=s64",
      "userId": "15430707477961945856"
     },
     "user_tz": -300
    },
    "id": "Vs64zQ5dAsT6",
    "outputId": "8d36bdea-1380-49fc-d4db-34b88c70065f"
   },
   "outputs": [],
   "source": [
    "predictions[0]"
   ]
  },
  {
   "cell_type": "code",
   "execution_count": null,
   "metadata": {
    "colab": {
     "base_uri": "https://localhost:8080/"
    },
    "executionInfo": {
     "elapsed": 54,
     "status": "ok",
     "timestamp": 1628688156543,
     "user": {
      "displayName": "Asaad Areeb",
      "photoUrl": "https://lh3.googleusercontent.com/a-/AOh14Gg0BvII_YnaeA5HcSUholmq4o3DorlmigeONT6o=s64",
      "userId": "15430707477961945856"
     },
     "user_tz": -300
    },
    "id": "jMmuZgid-TXI",
    "outputId": "275b1217-4d3e-4cf2-d2b6-22b47ce9569c"
   },
   "outputs": [],
   "source": [
    "# First prediction\n",
    "index = 42\n",
    "print(predictions[index])\n",
    "print(f\"Max value (probability of prediction): {np.max(predictions[index])}\")\n",
    "print(f\"Sum: {np.sum(predictions[index])}\")\n",
    "print(f\"Max index: {np.argmax(predictions[index])}\")\n",
    "print(f\"Predicted label: {unique_breeds[np.argmax(predictions[index])]}\")"
   ]
  },
  {
   "cell_type": "markdown",
   "metadata": {
    "id": "Bj-ikyBWAumk"
   },
   "source": [
    "Having the above functionality is great but we want to be able to do it at scale.\n",
    "\n",
    "And it would be even better if we could see the image the prediction is being made on!\n",
    "\n",
    "**Note:** Prediction probabilities are also known as confidence levels."
   ]
  },
  {
   "cell_type": "code",
   "execution_count": null,
   "metadata": {
    "colab": {
     "base_uri": "https://localhost:8080/",
     "height": 35
    },
    "executionInfo": {
     "elapsed": 42,
     "status": "ok",
     "timestamp": 1628688156544,
     "user": {
      "displayName": "Asaad Areeb",
      "photoUrl": "https://lh3.googleusercontent.com/a-/AOh14Gg0BvII_YnaeA5HcSUholmq4o3DorlmigeONT6o=s64",
      "userId": "15430707477961945856"
     },
     "user_tz": -300
    },
    "id": "dcyPB4igGd8F",
    "outputId": "3b4af9c7-4143-4ec4-e796-21ebca9d5742"
   },
   "outputs": [],
   "source": [
    "# Turn prediction probabilities into their respective labels (easier to understand)\n",
    "def get_pred_label(prediction_probabilities):\n",
    "  \"\"\"\n",
    "  Turns an array of prediction of probabilities into a label.\n",
    "  \"\"\"\n",
    "  return unique_breeds[np.argmax(prediction_probabilities)]\n",
    "# Get a predicted label based on an array of prediction probabilities\n",
    "pred_label = get_pred_label(predictions[0])\n",
    "pred_label"
   ]
  },
  {
   "cell_type": "markdown",
   "metadata": {
    "id": "2QcYE2paMBkn"
   },
   "source": [
    "Now since our validation data is stil in a batch dataset, we'll have to unbatch it to make predictions on the validation images and then compare those predictions to the validation labels (truth labels)"
   ]
  },
  {
   "cell_type": "code",
   "execution_count": null,
   "metadata": {
    "colab": {
     "base_uri": "https://localhost:8080/"
    },
    "executionInfo": {
     "elapsed": 39,
     "status": "ok",
     "timestamp": 1628688156545,
     "user": {
      "displayName": "Asaad Areeb",
      "photoUrl": "https://lh3.googleusercontent.com/a-/AOh14Gg0BvII_YnaeA5HcSUholmq4o3DorlmigeONT6o=s64",
      "userId": "15430707477961945856"
     },
     "user_tz": -300
    },
    "id": "y8iMC3f0NRdH",
    "outputId": "6b623839-f137-4c59-c1b0-48e83c1ee707"
   },
   "outputs": [],
   "source": [
    "# Create a function to unbatch a batch dataset\n",
    "def unbatchify(data):\n",
    "  \"\"\"\n",
    "  Takes a batched dataset of (image, label) Tensors and returns seperate arrays of images and labels.\n",
    "  \"\"\"\n",
    "  images = []\n",
    "  labels = []\n",
    "  # Loop through unbatched data\n",
    "  for image, label in data.unbatch().as_numpy_iterator():\n",
    "    images.append(image)\n",
    "    labels.append(unique_breeds[np.argmax(label)])\n",
    "  return images, labels\n",
    "\n",
    "# Unbatchify the validation data\n",
    "val_images, val_labels = unbatchify(val_data)\n",
    "val_images[0], val_labels[0]"
   ]
  },
  {
   "cell_type": "markdown",
   "metadata": {
    "id": "KE5M4DzVQiBx"
   },
   "source": [
    "Now we'vw ways to get:\n",
    "* Prediction labels\n",
    "* Validation labels (truth labels)\n",
    "* Validation images\n",
    "\n",
    "Let's make some functions to make these all a bit more visualize.\n",
    "\n",
    "We'll create a function which:\n",
    "* Takes an array of prediction probabilities, an array of truth labels and an array of images and an integer.\n",
    "* Convert the predicted probabilities to a predicted label.\n",
    "* Plot the predicted label, it's predicted probability, the truth lable and the taget image on single plot."
   ]
  },
  {
   "cell_type": "code",
   "execution_count": null,
   "metadata": {
    "executionInfo": {
     "elapsed": 34,
     "status": "ok",
     "timestamp": 1628688156547,
     "user": {
      "displayName": "Asaad Areeb",
      "photoUrl": "https://lh3.googleusercontent.com/a-/AOh14Gg0BvII_YnaeA5HcSUholmq4o3DorlmigeONT6o=s64",
      "userId": "15430707477961945856"
     },
     "user_tz": -300
    },
    "id": "5ovLCICOVP6J"
   },
   "outputs": [],
   "source": [
    "def plot_pred(prediction_probabilities, labels, images, n=0):\n",
    "  \"\"\"\n",
    "  View the prediction, ground truth and image for sample n\n",
    "  \"\"\"\n",
    "  pred_prob, true_label, image = prediction_probabilities[n], labels[n], images[n]\n",
    "\n",
    "  # Get the pred label\n",
    "  pred_label = get_pred_label(pred_prob)\n",
    "\n",
    "  # Plot image & remove ticks\n",
    "  plt.imshow(image)\n",
    "  plt.xticks([])\n",
    "  plt.yticks([])\n",
    "\n",
    "  # Change the colour of the title depending if the prediction is rigth or wrong\n",
    "  if pred_label == true_label:\n",
    "    color = \"green\"\n",
    "  else:\n",
    "    color = \"red\"\n",
    "\n",
    "\n",
    "  # Change plot title to be predicted, probability of prediction and truth label\n",
    "  plt.title(\"{} {:2.0f}% {}\".format(pred_label,\n",
    "                                    np.max(pred_prob)*100,\n",
    "                                    true_label),\n",
    "                                    color=color)\n"
   ]
  },
  {
   "cell_type": "code",
   "execution_count": null,
   "metadata": {
    "colab": {
     "base_uri": "https://localhost:8080/",
     "height": 267
    },
    "executionInfo": {
     "elapsed": 35,
     "status": "ok",
     "timestamp": 1628688156548,
     "user": {
      "displayName": "Asaad Areeb",
      "photoUrl": "https://lh3.googleusercontent.com/a-/AOh14Gg0BvII_YnaeA5HcSUholmq4o3DorlmigeONT6o=s64",
      "userId": "15430707477961945856"
     },
     "user_tz": -300
    },
    "id": "sxVLLiq_aU54",
    "outputId": "1282b9d5-02c4-4542-cd79-fe19553bfcab"
   },
   "outputs": [],
   "source": [
    "plot_pred(prediction_probabilities=predictions,\n",
    "          labels=val_labels,\n",
    "          images=val_images,\n",
    "          n=77)"
   ]
  },
  {
   "cell_type": "markdown",
   "metadata": {
    "id": "utigN_VJbKiZ"
   },
   "source": [
    "Now we've got one function to visualize our models top prediction, let's make another to view our models top 10 predictions.\n",
    "\n",
    "This function will:\n",
    "* Take an input of prediction probabilities array and a groud truth array and an integer\n",
    "* Find the prediction using `get_pred_label()`\n",
    "* Find the top 10:\n",
    "  * Prediction probabilities indexes\n",
    "  * Prediction probabilities values\n",
    "  * Prediction labels\n",
    "* Plot the Top 10 prediction probability values and labels, coloring the true label green"
   ]
  },
  {
   "cell_type": "code",
   "execution_count": null,
   "metadata": {
    "executionInfo": {
     "elapsed": 33,
     "status": "ok",
     "timestamp": 1628688156549,
     "user": {
      "displayName": "Asaad Areeb",
      "photoUrl": "https://lh3.googleusercontent.com/a-/AOh14Gg0BvII_YnaeA5HcSUholmq4o3DorlmigeONT6o=s64",
      "userId": "15430707477961945856"
     },
     "user_tz": -300
    },
    "id": "wGdqjMDYfWPo"
   },
   "outputs": [],
   "source": [
    "def plot_pred_conf(prediction_probabilities, labels, n=0):\n",
    "  \"\"\"\n",
    "  Plus the top 10 highest prediction confidences along with the truth label for sample n.\n",
    "  \"\"\"\n",
    "  pred_prob, true_label = prediction_probabilities[n], labels[n]\n",
    "\n",
    "  # Get the predicted label\n",
    "  pred_label = get_pred_label(pred_prob)\n",
    "\n",
    "  # Find the top 10 prediction confidence indexes\n",
    "  top_10_pred_indexes = pred_prob.argsort()[-10:][::-1]\n",
    "  # Find the top 10 prediction confidence values\n",
    "  top_10_pred_values = pred_prob[top_10_pred_indexes]\n",
    "  # Find the top 10 prediction labels\n",
    "  top_10_pred_labels = unique_breeds[top_10_pred_indexes]\n",
    "\n",
    "  # Setup plot\n",
    "  top_plot = plt.bar(np.arange(len(top_10_pred_labels)),\n",
    "                     top_10_pred_values,\n",
    "                     color=\"grey\")\n",
    "  plt.xticks(np.arange(len(top_10_pred_labels)),\n",
    "             labels=top_10_pred_labels,\n",
    "             rotation=\"vertical\")\n",
    "  \n",
    "  # Change the color of true label\n",
    "  if np.isin(true_label, top_10_pred_labels):\n",
    "    top_plot[np.argmax(top_10_pred_labels == true_label)].set_color(\"green\")\n",
    "  else:\n",
    "    pass"
   ]
  },
  {
   "cell_type": "code",
   "execution_count": null,
   "metadata": {
    "colab": {
     "base_uri": "https://localhost:8080/",
     "height": 372
    },
    "executionInfo": {
     "elapsed": 35,
     "status": "ok",
     "timestamp": 1628688156551,
     "user": {
      "displayName": "Asaad Areeb",
      "photoUrl": "https://lh3.googleusercontent.com/a-/AOh14Gg0BvII_YnaeA5HcSUholmq4o3DorlmigeONT6o=s64",
      "userId": "15430707477961945856"
     },
     "user_tz": -300
    },
    "id": "jD2w7bf6qaxT",
    "outputId": "7a05a113-ab74-48d1-9c0b-10c5619035ea"
   },
   "outputs": [],
   "source": [
    "plot_pred_conf(prediction_probabilities=predictions,\n",
    "               labels=val_labels,\n",
    "               n=9)"
   ]
  },
  {
   "cell_type": "markdown",
   "metadata": {
    "id": "2CL1H1t1tgVa"
   },
   "source": [
    "Now we've got some function to help us visualize our predictions and evaluate our models, let's check out a few."
   ]
  },
  {
   "cell_type": "code",
   "execution_count": null,
   "metadata": {
    "colab": {
     "base_uri": "https://localhost:8080/",
     "height": 1000
    },
    "executionInfo": {
     "elapsed": 27543,
     "status": "ok",
     "timestamp": 1628688184061,
     "user": {
      "displayName": "Asaad Areeb",
      "photoUrl": "https://lh3.googleusercontent.com/a-/AOh14Gg0BvII_YnaeA5HcSUholmq4o3DorlmigeONT6o=s64",
      "userId": "15430707477961945856"
     },
     "user_tz": -300
    },
    "id": "MYPhLQgyu8_a",
    "outputId": "634401d5-503a-4d48-953e-8c639fc9a853"
   },
   "outputs": [],
   "source": [
    "# Let's check out a few predictions and their different values\n",
    "i_multiplier = 0\n",
    "num_rows = 3\n",
    "num_cols = 2\n",
    "num_images = num_rows*num_cols\n",
    "plt.figure(figsize=(10*num_cols, 5*num_rows))\n",
    "for i in range(num_images):\n",
    "  plt.subplot(num_rows, 2*num_cols, 2*i+1)\n",
    "  plot_pred(prediction_probabilities=predictions,\n",
    "            labels=val_labels,\n",
    "            images=val_images,\n",
    "            n=i+i_multiplier)\n",
    "  plt.subplot(num_rows, 2*num_cols, 2*i+2)\n",
    "  plot_pred_conf(prediction_probabilities=predictions,\n",
    "                 labels=val_labels,\n",
    "                 n=i+i_multiplier)\n",
    "plt.tight_layout(h_pad=1.0)\n",
    "plt.show()"
   ]
  },
  {
   "cell_type": "markdown",
   "metadata": {
    "id": "Rs9qIpLLyggQ"
   },
   "source": [
    "**Challenge:** How would you create a confusion matrix with our models predictions and true labels"
   ]
  },
  {
   "cell_type": "markdown",
   "metadata": {
    "id": "6Eqc81abtUqg"
   },
   "source": [
    "## Saving and Reloading a trained model"
   ]
  },
  {
   "cell_type": "code",
   "execution_count": null,
   "metadata": {
    "executionInfo": {
     "elapsed": 82,
     "status": "ok",
     "timestamp": 1628688184063,
     "user": {
      "displayName": "Asaad Areeb",
      "photoUrl": "https://lh3.googleusercontent.com/a-/AOh14Gg0BvII_YnaeA5HcSUholmq4o3DorlmigeONT6o=s64",
      "userId": "15430707477961945856"
     },
     "user_tz": -300
    },
    "id": "W728CMH8tbww"
   },
   "outputs": [],
   "source": [
    "# Create a function to save a model\n",
    "def save_model(model, suffix=None):\n",
    "  \"\"\"\n",
    "  Saves a given model in a models directory and appends a suffix (string).\n",
    "  \"\"\"\n",
    "  # Create a model directory pathname with current time\n",
    "  modeldir = os.path.join(\"drive/MyDrive/dog vision/models\",\n",
    "                          datetime.datetime.now().strftime(\"%Y%m%d-%H%M%S\"))\n",
    "  model_path = modeldir + \"-\" + suffix + \".h5\" # save format of model\n",
    "  print(f\"Saving model to: {model_path}...\")\n",
    "  model.save(model_path)\n",
    "  return model_path"
   ]
  },
  {
   "cell_type": "code",
   "execution_count": null,
   "metadata": {
    "executionInfo": {
     "elapsed": 82,
     "status": "ok",
     "timestamp": 1628688184065,
     "user": {
      "displayName": "Asaad Areeb",
      "photoUrl": "https://lh3.googleusercontent.com/a-/AOh14Gg0BvII_YnaeA5HcSUholmq4o3DorlmigeONT6o=s64",
      "userId": "15430707477961945856"
     },
     "user_tz": -300
    },
    "id": "C5UC-5_Vyjg2"
   },
   "outputs": [],
   "source": [
    "# Create a function to load a trained model\n",
    "def load_model(model_path):\n",
    "  \"\"\"\n",
    "  Loads a saved model from a specified path.\n",
    "  \"\"\"\n",
    "  print(f\"Loading saved model from: {model_path}\")\n",
    "  model = tf.keras.models.load_model(model_path,\n",
    "                                     custom_objects={\"KerasLayer\":hub.KerasLayer})\n",
    "  return model"
   ]
  },
  {
   "cell_type": "markdown",
   "metadata": {
    "id": "rhiSdgCg2zt0"
   },
   "source": [
    "Now we've got functions to save and load a trained model, let's make sure they work!"
   ]
  },
  {
   "cell_type": "code",
   "execution_count": null,
   "metadata": {
    "colab": {
     "base_uri": "https://localhost:8080/",
     "height": 51
    },
    "executionInfo": {
     "elapsed": 81,
     "status": "ok",
     "timestamp": 1628688184066,
     "user": {
      "displayName": "Asaad Areeb",
      "photoUrl": "https://lh3.googleusercontent.com/a-/AOh14Gg0BvII_YnaeA5HcSUholmq4o3DorlmigeONT6o=s64",
      "userId": "15430707477961945856"
     },
     "user_tz": -300
    },
    "id": "TBIVR34h3HEn",
    "outputId": "a3f08675-96e0-4fee-b41f-70351d41ef07"
   },
   "outputs": [],
   "source": [
    "# Save our model trained on 1000 images\n",
    "save_model(model, suffix=\"1000-images-modilenetv2-Adam\")"
   ]
  },
  {
   "cell_type": "code",
   "execution_count": null,
   "metadata": {
    "colab": {
     "base_uri": "https://localhost:8080/"
    },
    "executionInfo": {
     "elapsed": 77,
     "status": "ok",
     "timestamp": 1628688184074,
     "user": {
      "displayName": "Asaad Areeb",
      "photoUrl": "https://lh3.googleusercontent.com/a-/AOh14Gg0BvII_YnaeA5HcSUholmq4o3DorlmigeONT6o=s64",
      "userId": "15430707477961945856"
     },
     "user_tz": -300
    },
    "id": "Fe06Yzr23xTP",
    "outputId": "57188d9c-82db-43cd-8f8f-a745675b9578"
   },
   "outputs": [],
   "source": [
    "# Load a trained model\n",
    "loaded_1000_image_model = load_model(\"drive/MyDrive/dog vision/models/20210811-110734-1000-images-modilenetv2-Adam.h5\")"
   ]
  },
  {
   "cell_type": "code",
   "execution_count": null,
   "metadata": {
    "colab": {
     "base_uri": "https://localhost:8080/"
    },
    "executionInfo": {
     "elapsed": 72,
     "status": "ok",
     "timestamp": 1628688184077,
     "user": {
      "displayName": "Asaad Areeb",
      "photoUrl": "https://lh3.googleusercontent.com/a-/AOh14Gg0BvII_YnaeA5HcSUholmq4o3DorlmigeONT6o=s64",
      "userId": "15430707477961945856"
     },
     "user_tz": -300
    },
    "id": "jXWo-8pT5-Gs",
    "outputId": "5c8578cb-ef11-403f-9500-9924ff4a554b"
   },
   "outputs": [],
   "source": [
    "# Evaluate the pre-saved model\n",
    "model.evaluate(val_data)"
   ]
  },
  {
   "cell_type": "code",
   "execution_count": null,
   "metadata": {
    "colab": {
     "base_uri": "https://localhost:8080/"
    },
    "executionInfo": {
     "elapsed": 65,
     "status": "ok",
     "timestamp": 1628688184081,
     "user": {
      "displayName": "Asaad Areeb",
      "photoUrl": "https://lh3.googleusercontent.com/a-/AOh14Gg0BvII_YnaeA5HcSUholmq4o3DorlmigeONT6o=s64",
      "userId": "15430707477961945856"
     },
     "user_tz": -300
    },
    "id": "9WVhaGrt6cT3",
    "outputId": "c0562dc9-6213-46e0-b75c-bf4ef58d7bb3"
   },
   "outputs": [],
   "source": [
    "# Evaluate the loaded model\n",
    "loaded_1000_image_model.evaluate(val_data)"
   ]
  },
  {
   "cell_type": "markdown",
   "metadata": {
    "id": "NQHRw8Ap64m1"
   },
   "source": [
    "## Training on big dog model (on the full data)"
   ]
  },
  {
   "cell_type": "code",
   "execution_count": null,
   "metadata": {
    "colab": {
     "base_uri": "https://localhost:8080/"
    },
    "executionInfo": {
     "elapsed": 60,
     "status": "ok",
     "timestamp": 1628688184085,
     "user": {
      "displayName": "Asaad Areeb",
      "photoUrl": "https://lh3.googleusercontent.com/a-/AOh14Gg0BvII_YnaeA5HcSUholmq4o3DorlmigeONT6o=s64",
      "userId": "15430707477961945856"
     },
     "user_tz": -300
    },
    "id": "NJZHy57o7l62",
    "outputId": "9ff58045-0671-4abf-ccc3-05b1d31d59a4"
   },
   "outputs": [],
   "source": [
    "# Create a data batch with the full dataset\n",
    "full_data = create_data_batches(X, y)"
   ]
  },
  {
   "cell_type": "code",
   "execution_count": null,
   "metadata": {
    "colab": {
     "base_uri": "https://localhost:8080/"
    },
    "executionInfo": {
     "elapsed": 59,
     "status": "ok",
     "timestamp": 1628688184090,
     "user": {
      "displayName": "Asaad Areeb",
      "photoUrl": "https://lh3.googleusercontent.com/a-/AOh14Gg0BvII_YnaeA5HcSUholmq4o3DorlmigeONT6o=s64",
      "userId": "15430707477961945856"
     },
     "user_tz": -300
    },
    "id": "7Vls7VNX8hmC",
    "outputId": "2da3609b-c2a4-4b32-81ef-32fbea922af3"
   },
   "outputs": [],
   "source": [
    "full_data"
   ]
  },
  {
   "cell_type": "code",
   "execution_count": null,
   "metadata": {
    "colab": {
     "base_uri": "https://localhost:8080/"
    },
    "executionInfo": {
     "elapsed": 6177,
     "status": "ok",
     "timestamp": 1628688190213,
     "user": {
      "displayName": "Asaad Areeb",
      "photoUrl": "https://lh3.googleusercontent.com/a-/AOh14Gg0BvII_YnaeA5HcSUholmq4o3DorlmigeONT6o=s64",
      "userId": "15430707477961945856"
     },
     "user_tz": -300
    },
    "id": "AiTTudVi8mUu",
    "outputId": "e6cdc911-b46c-4b68-b211-db1cfbb64b06"
   },
   "outputs": [],
   "source": [
    "# Create a model for full model\n",
    "full_model = create_model()"
   ]
  },
  {
   "cell_type": "code",
   "execution_count": null,
   "metadata": {
    "executionInfo": {
     "elapsed": 70,
     "status": "ok",
     "timestamp": 1628688190215,
     "user": {
      "displayName": "Asaad Areeb",
      "photoUrl": "https://lh3.googleusercontent.com/a-/AOh14Gg0BvII_YnaeA5HcSUholmq4o3DorlmigeONT6o=s64",
      "userId": "15430707477961945856"
     },
     "user_tz": -300
    },
    "id": "GQPJcizf9dEm"
   },
   "outputs": [],
   "source": [
    "# Create full model callbacks\n",
    "full_model_tensorboard = create_tensorboard_callback()\n",
    "# No validation set when training on all the data, so we can't monitor validation accuracy\n",
    "full_model_early_stopping = tf.keras.callbacks.EarlyStopping(monitor=\"accuracy\",\n",
    "                                                             patience=3)"
   ]
  },
  {
   "cell_type": "markdown",
   "metadata": {
    "id": "Hscvw9OfAIPm"
   },
   "source": [
    "**Note:** Running the cell below will take a little while (maybe upto 30 mins for the first epoch) because the GPU we're using in the runtime has to load all of the images into memory."
   ]
  },
  {
   "cell_type": "code",
   "execution_count": null,
   "metadata": {
    "executionInfo": {
     "elapsed": 70,
     "status": "ok",
     "timestamp": 1628688190217,
     "user": {
      "displayName": "Asaad Areeb",
      "photoUrl": "https://lh3.googleusercontent.com/a-/AOh14Gg0BvII_YnaeA5HcSUholmq4o3DorlmigeONT6o=s64",
      "userId": "15430707477961945856"
     },
     "user_tz": -300
    },
    "id": "7olRcTH9_XJq"
   },
   "outputs": [],
   "source": [
    "# # Fit the full model to full data\n",
    "# full_model.fit(x=full_data,\n",
    "#                epochs=NUM_EPOCHS,\n",
    "#                callbacks=[full_model_tensorboard, full_model_early_stopping])"
   ]
  },
  {
   "cell_type": "code",
   "execution_count": null,
   "metadata": {
    "colab": {
     "base_uri": "https://localhost:8080/",
     "height": 51
    },
    "executionInfo": {
     "elapsed": 69,
     "status": "ok",
     "timestamp": 1628688190220,
     "user": {
      "displayName": "Asaad Areeb",
      "photoUrl": "https://lh3.googleusercontent.com/a-/AOh14Gg0BvII_YnaeA5HcSUholmq4o3DorlmigeONT6o=s64",
      "userId": "15430707477961945856"
     },
     "user_tz": -300
    },
    "id": "ABx0GxXUA5dH",
    "outputId": "d0669849-6928-49de-b129-3bb4cc2cedd5"
   },
   "outputs": [],
   "source": [
    "save_model(full_model, suffix=\"full-image-set-mobilenetv2-Adam\")"
   ]
  },
  {
   "cell_type": "code",
   "execution_count": null,
   "metadata": {
    "colab": {
     "base_uri": "https://localhost:8080/"
    },
    "executionInfo": {
     "elapsed": 65,
     "status": "ok",
     "timestamp": 1628688190224,
     "user": {
      "displayName": "Asaad Areeb",
      "photoUrl": "https://lh3.googleusercontent.com/a-/AOh14Gg0BvII_YnaeA5HcSUholmq4o3DorlmigeONT6o=s64",
      "userId": "15430707477961945856"
     },
     "user_tz": -300
    },
    "id": "1T6Ua9roCRFG",
    "outputId": "0939339c-5c6f-41da-f579-c766f5814c73"
   },
   "outputs": [],
   "source": [
    "# Load in the full model\n",
    "loaded_full_model = load_model(\"drive/MyDrive/dog vision/models/20210811-124510-full-image-set-mobilenetv2-Adam.h5\")"
   ]
  },
  {
   "cell_type": "markdown",
   "metadata": {
    "id": "JrMd-Cx8Ngmc"
   },
   "source": [
    "## Making predictions on test dataset\n"
   ]
  },
  {
   "cell_type": "code",
   "execution_count": null,
   "metadata": {
    "colab": {
     "base_uri": "https://localhost:8080/"
    },
    "executionInfo": {
     "elapsed": 9547,
     "status": "ok",
     "timestamp": 1628688885933,
     "user": {
      "displayName": "Asaad Areeb",
      "photoUrl": "https://lh3.googleusercontent.com/a-/AOh14Gg0BvII_YnaeA5HcSUholmq4o3DorlmigeONT6o=s64",
      "userId": "15430707477961945856"
     },
     "user_tz": -300
    },
    "id": "18rM68O_R-g0",
    "outputId": "0e1c873b-10be-4b40-ca4b-2d4d7fae302f"
   },
   "outputs": [],
   "source": [
    "# Load the test image filenames\n",
    "test_path = \"drive/MyDrive/dog vision/test/\"\n",
    "test_filenames = [test_path + fname for fname in os.listdir(test_path)]\n",
    "test_filenames[:10]"
   ]
  },
  {
   "cell_type": "code",
   "execution_count": null,
   "metadata": {
    "colab": {
     "base_uri": "https://localhost:8080/"
    },
    "executionInfo": {
     "elapsed": 674,
     "status": "ok",
     "timestamp": 1628689035458,
     "user": {
      "displayName": "Asaad Areeb",
      "photoUrl": "https://lh3.googleusercontent.com/a-/AOh14Gg0BvII_YnaeA5HcSUholmq4o3DorlmigeONT6o=s64",
      "userId": "15430707477961945856"
     },
     "user_tz": -300
    },
    "id": "xXitNd1Ya_j2",
    "outputId": "3f5a04a7-2251-46eb-9c96-03e37c673f28"
   },
   "outputs": [],
   "source": [
    "# Create test data batch\n",
    "test_data = create_data_batches(test_filenames, test_data=True)"
   ]
  },
  {
   "cell_type": "code",
   "execution_count": null,
   "metadata": {
    "colab": {
     "base_uri": "https://localhost:8080/"
    },
    "executionInfo": {
     "elapsed": 2752,
     "status": "ok",
     "timestamp": 1628689129351,
     "user": {
      "displayName": "Asaad Areeb",
      "photoUrl": "https://lh3.googleusercontent.com/a-/AOh14Gg0BvII_YnaeA5HcSUholmq4o3DorlmigeONT6o=s64",
      "userId": "15430707477961945856"
     },
     "user_tz": -300
    },
    "id": "_8kkCxQpbmqI",
    "outputId": "a1c479c9-d392-4534-915b-ffb0dc55c6d1"
   },
   "outputs": [],
   "source": [
    "test_data"
   ]
  },
  {
   "cell_type": "markdown",
   "metadata": {
    "id": "KZSK8UfKctYt"
   },
   "source": [
    "**Note:** Calling `predict()` on our full model and passing it the test data batch will take a long time to run (about an ~1hr)"
   ]
  },
  {
   "cell_type": "code",
   "execution_count": null,
   "metadata": {
    "colab": {
     "base_uri": "https://localhost:8080/"
    },
    "executionInfo": {
     "elapsed": 413353,
     "status": "ok",
     "timestamp": 1628692855444,
     "user": {
      "displayName": "Asaad Areeb",
      "photoUrl": "https://lh3.googleusercontent.com/a-/AOh14Gg0BvII_YnaeA5HcSUholmq4o3DorlmigeONT6o=s64",
      "userId": "15430707477961945856"
     },
     "user_tz": -300
    },
    "id": "JIPlsYxZb8sd",
    "outputId": "e8d14f94-2772-48ac-f931-c4e40c2cf4db"
   },
   "outputs": [],
   "source": [
    "# # Make predictions on test data batch using the loaded full model\n",
    "# test_predictions = loaded_full_model.predict(test_data,\n",
    "#                                              verbose=1)"
   ]
  },
  {
   "cell_type": "code",
   "execution_count": null,
   "metadata": {
    "executionInfo": {
     "elapsed": 1603,
     "status": "ok",
     "timestamp": 1628693277841,
     "user": {
      "displayName": "Asaad Areeb",
      "photoUrl": "https://lh3.googleusercontent.com/a-/AOh14Gg0BvII_YnaeA5HcSUholmq4o3DorlmigeONT6o=s64",
      "userId": "15430707477961945856"
     },
     "user_tz": -300
    },
    "id": "NtiJuBq8dI4-"
   },
   "outputs": [],
   "source": [
    "# # Save predictions (NumPy array) to csv file (for access later)\n",
    "# np.savetxt(\"drive/MyDrive/dog vision/preds_array.csv\", test_predictions, delimiter=\",\")"
   ]
  },
  {
   "cell_type": "code",
   "execution_count": null,
   "metadata": {
    "executionInfo": {
     "elapsed": 2072,
     "status": "ok",
     "timestamp": 1628693280693,
     "user": {
      "displayName": "Asaad Areeb",
      "photoUrl": "https://lh3.googleusercontent.com/a-/AOh14Gg0BvII_YnaeA5HcSUholmq4o3DorlmigeONT6o=s64",
      "userId": "15430707477961945856"
     },
     "user_tz": -300
    },
    "id": "KR2v518LrBYy"
   },
   "outputs": [],
   "source": [
    "# Load predictions (NumPy array) from csv file\n",
    "test_predictions = np.loadtxt(\"drive/MyDrive/dog vision/preds_array.csv\", delimiter=\",\")"
   ]
  },
  {
   "cell_type": "code",
   "execution_count": null,
   "metadata": {
    "colab": {
     "base_uri": "https://localhost:8080/"
    },
    "executionInfo": {
     "elapsed": 14,
     "status": "ok",
     "timestamp": 1628693388214,
     "user": {
      "displayName": "Asaad Areeb",
      "photoUrl": "https://lh3.googleusercontent.com/a-/AOh14Gg0BvII_YnaeA5HcSUholmq4o3DorlmigeONT6o=s64",
      "userId": "15430707477961945856"
     },
     "user_tz": -300
    },
    "id": "HXFKZb04ryv4",
    "outputId": "650a178d-9987-4e48-e45f-1699186f6072"
   },
   "outputs": [],
   "source": [
    "test_predictions[:10]"
   ]
  },
  {
   "cell_type": "code",
   "execution_count": null,
   "metadata": {
    "colab": {
     "base_uri": "https://localhost:8080/"
    },
    "executionInfo": {
     "elapsed": 621,
     "status": "ok",
     "timestamp": 1628693424848,
     "user": {
      "displayName": "Asaad Areeb",
      "photoUrl": "https://lh3.googleusercontent.com/a-/AOh14Gg0BvII_YnaeA5HcSUholmq4o3DorlmigeONT6o=s64",
      "userId": "15430707477961945856"
     },
     "user_tz": -300
    },
    "id": "N8tROzbAsNDA",
    "outputId": "a1e0f1e4-c10f-431b-9335-2b9aebbd41df"
   },
   "outputs": [],
   "source": [
    "test_predictions.shape"
   ]
  },
  {
   "cell_type": "markdown",
   "metadata": {
    "id": "RCG931disS4b"
   },
   "source": [
    "## Preparing test dataset predictions for Kaggle\n"
   ]
  },
  {
   "cell_type": "code",
   "execution_count": null,
   "metadata": {
    "colab": {
     "base_uri": "https://localhost:8080/",
     "height": 112
    },
    "executionInfo": {
     "elapsed": 1383,
     "status": "ok",
     "timestamp": 1628694629708,
     "user": {
      "displayName": "Asaad Areeb",
      "photoUrl": "https://lh3.googleusercontent.com/a-/AOh14Gg0BvII_YnaeA5HcSUholmq4o3DorlmigeONT6o=s64",
      "userId": "15430707477961945856"
     },
     "user_tz": -300
    },
    "id": "A5j_w122ujy7",
    "outputId": "ae7299df-caca-4834-96aa-93ae7eb05cc3"
   },
   "outputs": [],
   "source": [
    "# Create a Pandas DataFrame with empty columns\n",
    "preds_df = pd.DataFrame(columns=[\"id\"] + list(unique_breeds))\n",
    "preds_df.head()"
   ]
  },
  {
   "cell_type": "code",
   "execution_count": null,
   "metadata": {
    "executionInfo": {
     "elapsed": 734,
     "status": "ok",
     "timestamp": 1628695141846,
     "user": {
      "displayName": "Asaad Areeb",
      "photoUrl": "https://lh3.googleusercontent.com/a-/AOh14Gg0BvII_YnaeA5HcSUholmq4o3DorlmigeONT6o=s64",
      "userId": "15430707477961945856"
     },
     "user_tz": -300
    },
    "id": "0ZwtLUDmw2JO"
   },
   "outputs": [],
   "source": [
    "# Append test image ID's to predictions DataFrame\n",
    "test_ids = [os.path.splitext(path)[0] for path in os.listdir(test_path)]\n",
    "preds_df[\"id\"] = test_ids"
   ]
  },
  {
   "cell_type": "code",
   "execution_count": null,
   "metadata": {
    "colab": {
     "base_uri": "https://localhost:8080/",
     "height": 263
    },
    "executionInfo": {
     "elapsed": 661,
     "status": "ok",
     "timestamp": 1628695175264,
     "user": {
      "displayName": "Asaad Areeb",
      "photoUrl": "https://lh3.googleusercontent.com/a-/AOh14Gg0BvII_YnaeA5HcSUholmq4o3DorlmigeONT6o=s64",
      "userId": "15430707477961945856"
     },
     "user_tz": -300
    },
    "id": "RTuXXFZIyWDK",
    "outputId": "26f6a124-a0cb-4624-e10e-d7c47fd49897"
   },
   "outputs": [],
   "source": [
    "preds_df.head()"
   ]
  },
  {
   "cell_type": "code",
   "execution_count": null,
   "metadata": {
    "colab": {
     "base_uri": "https://localhost:8080/",
     "height": 345
    },
    "executionInfo": {
     "elapsed": 857,
     "status": "ok",
     "timestamp": 1628695513696,
     "user": {
      "displayName": "Asaad Areeb",
      "photoUrl": "https://lh3.googleusercontent.com/a-/AOh14Gg0BvII_YnaeA5HcSUholmq4o3DorlmigeONT6o=s64",
      "userId": "15430707477961945856"
     },
     "user_tz": -300
    },
    "id": "SEAJZsvCzBns",
    "outputId": "50ddba6c-6dff-4b4e-9728-df45ca0e0c92"
   },
   "outputs": [],
   "source": [
    "# Add the prediction probabilities to each dog breed column\n",
    "preds_df[list(unique_breeds)] = test_predictions\n",
    "preds_df.head()"
   ]
  },
  {
   "cell_type": "code",
   "execution_count": null,
   "metadata": {
    "executionInfo": {
     "elapsed": 2307,
     "status": "ok",
     "timestamp": 1628695700000,
     "user": {
      "displayName": "Asaad Areeb",
      "photoUrl": "https://lh3.googleusercontent.com/a-/AOh14Gg0BvII_YnaeA5HcSUholmq4o3DorlmigeONT6o=s64",
      "userId": "15430707477961945856"
     },
     "user_tz": -300
    },
    "id": "f2bVC1pF0UKz"
   },
   "outputs": [],
   "source": [
    "# Save our predictions DataFrame to CSV for submission to Kaggle\n",
    "preds_df.to_csv(\"drive/MyDrive/dog vision/full_model_predictions_submission_1_mobilenetv2.csv\",\n",
    "                index=False)"
   ]
  },
  {
   "cell_type": "code",
   "execution_count": null,
   "metadata": {
    "id": "hah5rAGN1BWg"
   },
   "outputs": [],
   "source": []
  }
 ],
 "metadata": {
  "colab": {
   "authorship_tag": "ABX9TyNsbhg3b3UHN+6c8Ae/9dlg",
   "collapsed_sections": [],
   "mount_file_id": "1aoULOn76H-uFSmLtB3etkST9uxIe8_cl",
   "name": "end-to-end-dog-recognition.ipynb",
   "provenance": []
  },
  "kernelspec": {
   "display_name": "Python 3 (ipykernel)",
   "language": "python",
   "name": "python3"
  },
  "language_info": {
   "codemirror_mode": {
    "name": "ipython",
    "version": 3
   },
   "file_extension": ".py",
   "mimetype": "text/x-python",
   "name": "python",
   "nbconvert_exporter": "python",
   "pygments_lexer": "ipython3",
   "version": "3.8.13"
  }
 },
 "nbformat": 4,
 "nbformat_minor": 1
}
